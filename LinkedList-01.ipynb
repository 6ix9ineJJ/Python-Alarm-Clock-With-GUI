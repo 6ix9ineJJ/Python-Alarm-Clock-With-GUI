{
 "cells": [
  {
   "cell_type": "code",
   "execution_count": 1,
   "id": "fa0919ab",
   "metadata": {},
   "outputs": [],
   "source": [
    "class Node:\n",
    "    def __init__(self,data = None):\n",
    "        self.val = data\n",
    "        self.next = None\n",
    "        \n",
    "class linkedlist:\n",
    "    def __init__(self):\n",
    "        self.head = None"
   ]
  },
  {
   "cell_type": "code",
   "execution_count": 2,
   "id": "514adc10",
   "metadata": {},
   "outputs": [],
   "source": [
    "def Push(self,val):\n",
    "    new_node = Node(val)\n",
    "    \n",
    "    if self.head is None:\n",
    "        self.head = new_node\n",
    "        return\n",
    "    \n",
    "    last = self.head\n",
    "    \n",
    "    while last.next is not None:\n",
    "        last = last.next\n",
    "        \n",
    "    last.next = new_node        \n",
    "    \n",
    "linkedlist.Push = Push    "
   ]
  },
  {
   "cell_type": "code",
   "execution_count": 3,
   "id": "c8a97c1c",
   "metadata": {},
   "outputs": [],
   "source": [
    "def __str__(self):\n",
    "    ret_str = '['\n",
    "    temp = self.head\n",
    "    while temp is not None:\n",
    "        ret_str += str(temp.val) + ','\n",
    "        temp = temp.next\n",
    "        \n",
    "    ret_str = ret_str.rstrip(',')\n",
    "    ret_str += ']'\n",
    "    return ret_str\n",
    "\n",
    "linkedlist.__str__ =__str__"
   ]
  },
  {
   "cell_type": "code",
   "execution_count": 4,
   "id": "20aaed86",
   "metadata": {},
   "outputs": [
    {
     "name": "stdout",
     "output_type": "stream",
     "text": [
      "[1,2,4]\n"
     ]
    }
   ],
   "source": [
    "l1 =  linkedlist()\n",
    "l1.Push(1)\n",
    "l1.Push(2)\n",
    "l1.Push(4)\n",
    "print(l1)\n"
   ]
  },
  {
   "cell_type": "code",
   "execution_count": 5,
   "id": "51965d16",
   "metadata": {},
   "outputs": [],
   "source": [
    "def pop(self):\n",
    "    if self.head is None:\n",
    "        raise Exception(\"can't Possible\")\n",
    "    \n",
    "    #first case for only one  node\n",
    "    if self.head.next is None:\n",
    "        print(\"case 1\")\n",
    "        val = self.head.val\n",
    "        self.head = None\n",
    "        return val\n",
    "    \n",
    "    #Second case for two or more nodes\n",
    "    \n",
    "    \n",
    "    temp = self.head\n",
    "    print(\"case 2\") \n",
    "    while temp.next is not None:\n",
    "        prev = temp\n",
    "        temp= temp.next\n",
    "        \n",
    "        \n",
    "    val = temp.val\n",
    "    prev.next = None\n",
    "    return val\n",
    "\n",
    "\n",
    "\n",
    "linkedlist.pop = pop\n",
    "    "
   ]
  },
  {
   "cell_type": "code",
   "execution_count": 6,
   "id": "010e6422",
   "metadata": {},
   "outputs": [],
   "source": [
    "def Insert(self,val):\n",
    "    new_node = Node(val)\n",
    "    \n",
    "    index = int(input(\"Enter a index to add \"))\n",
    "    \n",
    "    if index == 0:\n",
    "        new_node.next = self.head\n",
    "        self.head = new_node\n",
    "        return\n",
    "        \n",
    "    temp = self.head\n",
    "    counter = 0\n",
    "    \n",
    "    while temp is not None and counter < index:\n",
    "        prev = temp\n",
    "        temp= temp.next\n",
    "        counter=+1\n",
    "\n",
    "    prev.next = new_node\n",
    "    new_node.next = temp\n",
    "    \n",
    "linkedlist.Insert = Insert\n",
    "        "
   ]
  },
  {
   "cell_type": "code",
   "execution_count": 7,
   "id": "60170f8a",
   "metadata": {},
   "outputs": [],
   "source": [
    "l1.Push(3)\n"
   ]
  },
  {
   "cell_type": "code",
   "execution_count": 8,
   "id": "0cf386e0",
   "metadata": {},
   "outputs": [
    {
     "name": "stdout",
     "output_type": "stream",
     "text": [
      "[1,2,4,3]\n"
     ]
    }
   ],
   "source": [
    "print(l1)"
   ]
  },
  {
   "cell_type": "code",
   "execution_count": 9,
   "id": "464d4c62",
   "metadata": {},
   "outputs": [],
   "source": [
    "def Search(self):\n",
    "    find = int(input(\"Enter the value to search \"))\n",
    "    \n",
    "    if find == self.head.val:\n",
    "        print(\"value found\")\n",
    "        return \n",
    "    \n",
    "    temp = self.head\n",
    "    \n",
    "    while temp.next is not None:\n",
    "        \n",
    "        if temp.next.val == find:\n",
    "            print(\"found\")\n",
    "            return       \n",
    "        temp = temp.next\n",
    "        \n",
    "        \n",
    "linkedlist.Search = Search"
   ]
  },
  {
   "cell_type": "code",
   "execution_count": 11,
   "id": "7ca72696",
   "metadata": {},
   "outputs": [
    {
     "name": "stdout",
     "output_type": "stream",
     "text": [
      "Enter the value to search 1\n",
      "value found\n"
     ]
    }
   ],
   "source": [
    "l1.Search()\n"
   ]
  },
  {
   "cell_type": "code",
   "execution_count": 20,
   "id": "40f952fc",
   "metadata": {},
   "outputs": [],
   "source": [
    "def Remove(self):\n",
    "    \n",
    "    delete_ = int(input(\"Enter the value to delete  \"))\n",
    "    \n",
    "    if self.head.val == delete_:\n",
    "        print(\"case 1\")\n",
    "        temp1 = self.head\n",
    "        self.head = self.head.next \n",
    "        del temp1\n",
    "        return\n",
    "            \n",
    "        \n",
    "        temp = self.head \n",
    "        print(\"Case 2 Deletion\")\n",
    "    \n",
    "        while temp.next is not None:\n",
    "            if temp.next.val == delete_:\n",
    "                print(\"value matched\")\n",
    "                temp1= temp.next.val\n",
    "                temp.next = temp.next.next\n",
    "                del temp1\n",
    "                temp = temp.next\n",
    "        \n",
    "            temp = self.head\n",
    "        print(\"case 3 deletion\")\n",
    "        while temp.next.next is not None:\n",
    "            if temp.next.next.val == delete_:\n",
    "                temp1 = temp.next.next.val\n",
    "                del temp1\n",
    "                temp.next = None\n",
    "            temp = temp.next\n",
    "        \n",
    "linkedlist.Remove= Remove"
   ]
  },
  {
   "cell_type": "code",
   "execution_count": 21,
   "id": "5fb11ec9",
   "metadata": {},
   "outputs": [
    {
     "name": "stdout",
     "output_type": "stream",
     "text": [
      "Enter the value to delete  4\n",
      "[1,2,4,3]\n"
     ]
    }
   ],
   "source": [
    "l1.Remove()\n",
    "print(l1)"
   ]
  },
  {
   "cell_type": "code",
   "execution_count": 13,
   "id": "bf63f0e6",
   "metadata": {},
   "outputs": [
    {
     "name": "stdout",
     "output_type": "stream",
     "text": [
      "[1,2,4,3]\n"
     ]
    }
   ],
   "source": [
    "print(l1)"
   ]
  },
  {
   "cell_type": "code",
   "execution_count": null,
   "id": "ee32cbd2",
   "metadata": {},
   "outputs": [],
   "source": []
  }
 ],
 "metadata": {
  "kernelspec": {
   "display_name": "Python 3 (ipykernel)",
   "language": "python",
   "name": "python3"
  },
  "language_info": {
   "codemirror_mode": {
    "name": "ipython",
    "version": 3
   },
   "file_extension": ".py",
   "mimetype": "text/x-python",
   "name": "python",
   "nbconvert_exporter": "python",
   "pygments_lexer": "ipython3",
   "version": "3.9.7"
  }
 },
 "nbformat": 4,
 "nbformat_minor": 5
}
