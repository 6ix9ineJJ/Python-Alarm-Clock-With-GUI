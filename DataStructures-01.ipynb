{
 "cells": [
  {
   "cell_type": "code",
   "execution_count": 53,
   "id": "0674d006",
   "metadata": {},
   "outputs": [],
   "source": [
    "class Shape:\n",
    "    def __init__(self, points):\n",
    "        self.points = points\n",
    "    \n",
    "    def __str__(self):\n",
    "        ret = \"\"\n",
    "        \n",
    "        for i in self.points:\n",
    "            ret += str(i) + \" - \"\n",
    "            \n",
    "        return ret"
   ]
  },
  {
   "cell_type": "code",
   "execution_count": 54,
   "id": "30152750",
   "metadata": {},
   "outputs": [
    {
     "name": "stdout",
     "output_type": "stream",
     "text": [
      "(3, 3) - (19, 1) - (1, 5) - \n"
     ]
    }
   ],
   "source": [
    "p1 = [(3,3),(19,1),(1,5)]\n",
    "sh = Shape(p1)\n",
    "print(sh)"
   ]
  },
  {
   "cell_type": "code",
   "execution_count": 60,
   "id": "a0846adc",
   "metadata": {},
   "outputs": [],
   "source": [
    "def print_point(self):   #composition\n",
    "    for i in self.points:\n",
    "        print(i)\n",
    "        \n",
    "Shape.print_point = print_point"
   ]
  },
  {
   "cell_type": "code",
   "execution_count": 61,
   "id": "4a5e8518",
   "metadata": {},
   "outputs": [
    {
     "name": "stdout",
     "output_type": "stream",
     "text": [
      "(3, 3)\n",
      "(19, 1)\n",
      "(1, 5)\n"
     ]
    }
   ],
   "source": [
    "sh.print_point()"
   ]
  },
  {
   "cell_type": "code",
   "execution_count": 3,
   "id": "17e637fd",
   "metadata": {},
   "outputs": [],
   "source": [
    "#inheritance\n",
    "def Triangle(Shape):\n",
    "    pass\n"
   ]
  },
  {
   "cell_type": "code",
   "execution_count": null,
   "id": "5a243b1c",
   "metadata": {},
   "outputs": [],
   "source": [
    "#LINKED LIST "
   ]
  },
  {
   "cell_type": "code",
   "execution_count": 3,
   "id": "fbdf7e0b",
   "metadata": {},
   "outputs": [],
   "source": []
  },
  {
   "cell_type": "code",
   "execution_count": 4,
   "id": "d34885cd",
   "metadata": {},
   "outputs": [],
   "source": []
  },
  {
   "cell_type": "code",
   "execution_count": 5,
   "id": "b6842152",
   "metadata": {},
   "outputs": [],
   "source": []
  },
  {
   "cell_type": "code",
   "execution_count": null,
   "id": "6c2fa873",
   "metadata": {},
   "outputs": [],
   "source": [
    "\n"
   ]
  },
  {
   "cell_type": "code",
   "execution_count": 7,
   "id": "34e622ac",
   "metadata": {},
   "outputs": [],
   "source": [
    "\n",
    "        "
   ]
  },
  {
   "cell_type": "code",
   "execution_count": 8,
   "id": "1a87e754",
   "metadata": {},
   "outputs": [],
   "source": [
    "l1.Push(2)"
   ]
  },
  {
   "cell_type": "code",
   "execution_count": 15,
   "id": "6a97c8a6",
   "metadata": {},
   "outputs": [],
   "source": [
    "\n"
   ]
  },
  {
   "cell_type": "code",
   "execution_count": 16,
   "id": "625aaf61",
   "metadata": {},
   "outputs": [
    {
     "name": "stdout",
     "output_type": "stream",
     "text": [
      "Enter a index to add 1\n"
     ]
    }
   ],
   "source": [
    "l1.Insert(3)"
   ]
  },
  {
   "cell_type": "code",
   "execution_count": 18,
   "id": "5a3863ce",
   "metadata": {},
   "outputs": [
    {
     "name": "stdout",
     "output_type": "stream",
     "text": [
      "[1,3,2,4,2]\n"
     ]
    }
   ],
   "source": [
    "print(l1)"
   ]
  },
  {
   "cell_type": "code",
   "execution_count": null,
   "id": "0eeded73",
   "metadata": {},
   "outputs": [],
   "source": []
  }
 ],
 "metadata": {
  "kernelspec": {
   "display_name": "Python 3 (ipykernel)",
   "language": "python",
   "name": "python3"
  },
  "language_info": {
   "codemirror_mode": {
    "name": "ipython",
    "version": 3
   },
   "file_extension": ".py",
   "mimetype": "text/x-python",
   "name": "python",
   "nbconvert_exporter": "python",
   "pygments_lexer": "ipython3",
   "version": "3.9.7"
  }
 },
 "nbformat": 4,
 "nbformat_minor": 5
}
